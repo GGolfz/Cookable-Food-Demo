{
 "cells": [
  {
   "cell_type": "code",
   "execution_count": 1,
   "metadata": {},
   "outputs": [],
   "source": [
    "import pandas as pd\n",
    "import json\n",
    "import random"
   ]
  },
  {
   "cell_type": "code",
   "execution_count": 4,
   "metadata": {},
   "outputs": [],
   "source": [
    "df = pd.read_csv(\"RAW_recipes.csv\")\n",
    "menus = []\n",
    "for i in df.loc[:1000,[\"name\",\"ingredients\"]].iterrows():\n",
    "    menus.append({\"id\": i[0], \"name\": i[1][\"name\"], \"ingredients\": list(map(lambda x: {\"name\":x,\"amount\":random.randint(1,5)},i[1][\"ingredients\"].strip(\"][\").replace(\"'\",\"\").split(\", \")))})\n",
    "json.dump(menus, open(\"menus.json\",\"w\"))"
   ]
  }
 ],
 "metadata": {
  "interpreter": {
   "hash": "eb7f5d246b341b988358d618623402cd5f4df3fd9724cd461a5bf09489b82624"
  },
  "kernelspec": {
   "display_name": "Python 3.8.12 ('mlp')",
   "language": "python",
   "name": "python3"
  },
  "language_info": {
   "codemirror_mode": {
    "name": "ipython",
    "version": 3
   },
   "file_extension": ".py",
   "mimetype": "text/x-python",
   "name": "python",
   "nbconvert_exporter": "python",
   "pygments_lexer": "ipython3",
   "version": "3.8.12"
  },
  "orig_nbformat": 4
 },
 "nbformat": 4,
 "nbformat_minor": 2
}
